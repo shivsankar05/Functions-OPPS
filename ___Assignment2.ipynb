{
  "nbformat": 4,
  "nbformat_minor": 0,
  "metadata": {
    "colab": {
      "provenance": []
    },
    "kernelspec": {
      "name": "python3",
      "display_name": "Python 3"
    },
    "language_info": {
      "name": "python"
    }
  },
  "cells": [
    {
      "cell_type": "markdown",
      "source": [
        "1. Explain the importance of Functions."
      ],
      "metadata": {
        "id": "sxgZOQQ25cAc"
      }
    },
    {
      "cell_type": "code",
      "execution_count": null,
      "metadata": {
        "id": "c7olyhmr5S_y"
      },
      "outputs": [],
      "source": []
    },
    {
      "cell_type": "markdown",
      "source": [
        "Fuectioes ie Pythoe programmieg play a crucial role aed are importaet for several reasoes\n",
        "\n",
        "1. Simplifying Tasks: Functions are like helpers that you can create to do specific jobs. Iestead of writieg the same code again aed again, you can make a function to do it once. This makes your program shorter and easier to uederstand.\n",
        "\n",
        "2.Keeping Things Organized: In a big program, there can be lots of code. Functions help keep things organized. You give each job a name and put the code for that job inside the function. So, you know where to find things.\n",
        "\n",
        "3.Reusability: Once you create a function, you can use it in different parts of your program whenever you need that job done. This saves time, reduces mistakes, aed makes your code more efficient.\n",
        "\n",
        "Collaboration: When working with others, functions make it easier to share and uederstand the code. You can tell your friends, \"Use this function to do that task,\" and they'll uederstand what it doesn"
      ],
      "metadata": {
        "id": "zMQsfdcG5zZM"
      }
    },
    {
      "cell_type": "markdown",
      "source": [
        "2. Write a basic function to greet students."
      ],
      "metadata": {
        "id": "Bx0J6kUN87lc"
      }
    },
    {
      "cell_type": "code",
      "source": [
        "def greet(n):\n",
        "  print(\"welcome to class\",n)\n",
        "\n",
        "print(greet(\"shiv\"))"
      ],
      "metadata": {
        "colab": {
          "base_uri": "https://localhost:8080/"
        },
        "id": "n51b5Lpz9Tnt",
        "outputId": "71c91e6d-1dbd-45ed-f792-dc8e4f49850a"
      },
      "execution_count": null,
      "outputs": [
        {
          "output_type": "stream",
          "name": "stdout",
          "text": [
            "welcome to class shiv\n",
            "None\n"
          ]
        }
      ]
    },
    {
      "cell_type": "markdown",
      "source": [
        "3. What is the difference between print and return statements.\n"
      ],
      "metadata": {
        "id": "-pLXUNXr_tOX"
      }
    },
    {
      "cell_type": "markdown",
      "source": [
        "Use print when you want to show a value to a human. return is a keyword. When a return statement is reached, Python will stop the execution of the current function, sending a value out to where the function was called. Use return when you want to send a value from one point in your code to another"
      ],
      "metadata": {
        "id": "Wzu7sbk7ALyj"
      }
    },
    {
      "cell_type": "markdown",
      "source": [
        "4. What are args and kwargs.\n"
      ],
      "metadata": {
        "id": "VHBvmQ62AWQP"
      }
    },
    {
      "cell_type": "markdown",
      "source": [
        "1. *args (Arbitrary Arguments):\n",
        ">> It allows a function to accept any number of positional arguments.\n",
        "\n",
        "\n",
        ">> The asterisk (*) before the parameter name is used to denote that it can take multiple arguments'\n",
        "\n",
        "\n",
        ">> The arguments passed with *args are treated as a tuple.\n",
        "\n",
        "2. **kwargs (Keyword Arguments).\n",
        "\n",
        "\n",
        "*   It allows a function to accept any number of keyword arguments.\n",
        "*   The double asterisk (**) before the parameter name is used to denote that it can take multiple keyword arguments.\n",
        "*   The arguments passed with **kwargs are treated as a dictionary.\n",
        "\n",
        "\n",
        "\n",
        "\n",
        "\n",
        "\n",
        "\n",
        "\n"
      ],
      "metadata": {
        "id": "iY5a8MWjAuHD"
      }
    },
    {
      "cell_type": "markdown",
      "source": [
        "5. Explain the iterator function."
      ],
      "metadata": {
        "id": "y0yEJP1GD-m2"
      }
    },
    {
      "cell_type": "markdown",
      "source": [
        "Iterator in python is an object that is used to iterate over iterable objects like lists, tuples, dicts, and sets. The\n",
        "iterator object is initialized using the `iter()` method. It uses the `next()` method for iteration.\n",
        "\n",
        "Example:"
      ],
      "metadata": {
        "id": "tOs2wXBWETSh"
      }
    },
    {
      "cell_type": "code",
      "source": [
        "mytuple = (\"apple\", \"banana\", \"cherry\")\n",
        "myit = iter(mytuple)\n",
        "print(next(myit))\n",
        "print(next(myit))\n",
        "print(next(myit))"
      ],
      "metadata": {
        "colab": {
          "base_uri": "https://localhost:8080/"
        },
        "id": "M48gKp1PGIiH",
        "outputId": "5eb20a3f-97bb-47c9-b5a7-4d18390d1f02"
      },
      "execution_count": null,
      "outputs": [
        {
          "output_type": "stream",
          "name": "stdout",
          "text": [
            "apple\n",
            "banana\n",
            "cherry\n"
          ]
        }
      ]
    },
    {
      "cell_type": "markdown",
      "source": [
        "6. Write a code thats generates the squares of numbers from 1 to n using a generators."
      ],
      "metadata": {
        "id": "jXrVEF_IAx_s"
      }
    },
    {
      "cell_type": "code",
      "source": [
        "def square_no(a):\n",
        "    return a*a\n",
        "square_no(67)"
      ],
      "metadata": {
        "colab": {
          "base_uri": "https://localhost:8080/"
        },
        "id": "AclqErocHteC",
        "outputId": "f1c15791-3325-4d2d-be04-6d1f57e5862d"
      },
      "execution_count": null,
      "outputs": [
        {
          "output_type": "execute_result",
          "data": {
            "text/plain": [
              "4489"
            ]
          },
          "metadata": {},
          "execution_count": 16
        }
      ]
    },
    {
      "cell_type": "markdown",
      "source": [
        "8. Write a code that generates even numbers from 2 to n using a generator."
      ],
      "metadata": {
        "id": "gDMuVoVDLsZe"
      }
    },
    {
      "cell_type": "code",
      "source": [
        "def only_numeric(a):\n",
        "    n = []\n",
        "    for i in a:\n",
        "        if i%2==0:\n",
        "          n.append(i)\n",
        "\n",
        "    return n\n",
        "\n",
        "only_numeric([2,6,8,7,4,9,20])"
      ],
      "metadata": {
        "colab": {
          "base_uri": "https://localhost:8080/"
        },
        "id": "CGn8ibzqOM07",
        "outputId": "d04520e2-9e12-440a-bf76-97f369da9db1"
      },
      "execution_count": null,
      "outputs": [
        {
          "output_type": "execute_result",
          "data": {
            "text/plain": [
              "[2, 6, 8, 4, 20]"
            ]
          },
          "metadata": {},
          "execution_count": 13
        }
      ]
    },
    {
      "cell_type": "markdown",
      "source": [
        "9. Write a code that generates powers of two up to n using a generator."
      ],
      "metadata": {
        "id": "ZzY5Zop0Rojw"
      }
    },
    {
      "cell_type": "code",
      "source": [
        "def square(n):\n",
        "  return n**(2)\n",
        "\n",
        "square(5)"
      ],
      "metadata": {
        "colab": {
          "base_uri": "https://localhost:8080/"
        },
        "id": "Dy3C2pYUSBXu",
        "outputId": "02f31cfe-ff3a-4133-8e6e-a59196bcdd3c"
      },
      "execution_count": null,
      "outputs": [
        {
          "output_type": "execute_result",
          "data": {
            "text/plain": [
              "25"
            ]
          },
          "metadata": {},
          "execution_count": 17
        }
      ]
    },
    {
      "cell_type": "markdown",
      "source": [
        "10. Write a code that generates prime numbers up to n using a generator."
      ],
      "metadata": {
        "id": "QmjhditiUiwb"
      }
    },
    {
      "cell_type": "code",
      "source": [
        "def only_numeric(a):\n",
        "    n = []\n",
        "    for i in a:\n",
        "        if i==2 or i%2!=0:\n",
        "          n.append(i)\n",
        "\n",
        "    return n\n",
        "\n",
        "only_numeric([4,6,7,5,11,2,87])"
      ],
      "metadata": {
        "colab": {
          "base_uri": "https://localhost:8080/"
        },
        "id": "PtlIXrQ4UiSg",
        "outputId": "ab95ea2d-dbab-436c-9c01-7722e42e0fec"
      },
      "execution_count": null,
      "outputs": [
        {
          "output_type": "execute_result",
          "data": {
            "text/plain": [
              "[7, 5, 11, 2, 87]"
            ]
          },
          "metadata": {},
          "execution_count": 18
        }
      ]
    },
    {
      "cell_type": "markdown",
      "source": [
        "11. Write a code that uses a lambda function to calcucate the sum of two numbers."
      ],
      "metadata": {
        "id": "379vlT-NWrv5"
      }
    },
    {
      "cell_type": "code",
      "source": [
        "add = lambda a,b: a+b\n",
        "add(3, 4)"
      ],
      "metadata": {
        "colab": {
          "base_uri": "https://localhost:8080/"
        },
        "id": "GurFTwnZWq92",
        "outputId": "04770963-0207-463d-dd50-c50f25fa673b"
      },
      "execution_count": null,
      "outputs": [
        {
          "output_type": "execute_result",
          "data": {
            "text/plain": [
              "7"
            ]
          },
          "metadata": {},
          "execution_count": 19
        }
      ]
    },
    {
      "cell_type": "markdown",
      "source": [
        "12. Write a code that uses a lambda function to calculate the square of a given number."
      ],
      "metadata": {
        "id": "QJ4fztRnXl9s"
      }
    },
    {
      "cell_type": "code",
      "source": [
        "sq_lambda = lambda x: x**2\n",
        "sq_lambda(5)"
      ],
      "metadata": {
        "colab": {
          "base_uri": "https://localhost:8080/"
        },
        "id": "GbMJQTWQXYQU",
        "outputId": "cfb897c1-ccf6-4548-b87b-7927bcc4b91c"
      },
      "execution_count": null,
      "outputs": [
        {
          "output_type": "execute_result",
          "data": {
            "text/plain": [
              "25"
            ]
          },
          "metadata": {},
          "execution_count": 20
        }
      ]
    },
    {
      "cell_type": "markdown",
      "source": [
        "13. Write a code that uses a lambda function to check whether a given number is even or odd."
      ],
      "metadata": {
        "id": "R_9Bl1yAYilp"
      }
    },
    {
      "cell_type": "code",
      "source": [
        "is_even = lambda x: x%2 == 0\n",
        "is_even(22)"
      ],
      "metadata": {
        "colab": {
          "base_uri": "https://localhost:8080/"
        },
        "id": "1LZhKbwlYb2m",
        "outputId": "feadfc79-0448-42e0-ed94-706c45383150"
      },
      "execution_count": null,
      "outputs": [
        {
          "output_type": "execute_result",
          "data": {
            "text/plain": [
              "True"
            ]
          },
          "metadata": {},
          "execution_count": 22
        }
      ]
    },
    {
      "cell_type": "markdown",
      "source": [
        "14. Write a code that uses a lambda function to concatenate two strings."
      ],
      "metadata": {
        "id": "N5hh2q8jZdRO"
      }
    },
    {
      "cell_type": "code",
      "source": [
        "add = lambda a,b: a+b\n",
        "add(\"pw\", \"skills\")"
      ],
      "metadata": {
        "colab": {
          "base_uri": "https://localhost:8080/",
          "height": 35
        },
        "id": "5E6phwO7ZVml",
        "outputId": "2a5b872d-35c7-4e37-932d-31dbbf19e97e"
      },
      "execution_count": null,
      "outputs": [
        {
          "output_type": "execute_result",
          "data": {
            "text/plain": [
              "'pwskills'"
            ],
            "application/vnd.google.colaboratory.intrinsic+json": {
              "type": "string"
            }
          },
          "metadata": {},
          "execution_count": 23
        }
      ]
    },
    {
      "cell_type": "markdown",
      "source": [
        "16. Write a code that uses a lambda function to find the maximum of three given numbers."
      ],
      "metadata": {
        "id": "r0cJ3DJSdc8X"
      }
    },
    {
      "cell_type": "code",
      "source": [
        "x = [45, 78, 9]\n",
        "maximum = max(x, key = lambda x: x)\n",
        "print(maximum)"
      ],
      "metadata": {
        "colab": {
          "base_uri": "https://localhost:8080/"
        },
        "id": "Ahkmo5vWbn7f",
        "outputId": "4ca65c42-31d1-48e1-9346-b65e787ec0b4"
      },
      "execution_count": null,
      "outputs": [
        {
          "output_type": "stream",
          "name": "stdout",
          "text": [
            "78\n"
          ]
        }
      ]
    },
    {
      "cell_type": "markdown",
      "source": [
        "17. Write a code that generates the squares of even numbers from a given list."
      ],
      "metadata": {
        "id": "f0ypuF7_d-Hk"
      }
    },
    {
      "cell_type": "code",
      "source": [
        "x = [3,6,8,9,4]\n",
        "sq_even = lambda x: x**2 if x%2==0 else x\n",
        "\n",
        "\n",
        "for item in x:\n",
        "  print(sq_even(item))"
      ],
      "metadata": {
        "colab": {
          "base_uri": "https://localhost:8080/"
        },
        "id": "5zQjkm8qevlR",
        "outputId": "50390cce-cbde-46e4-988a-a911f551391d"
      },
      "execution_count": null,
      "outputs": [
        {
          "output_type": "stream",
          "name": "stdout",
          "text": [
            "3\n",
            "36\n",
            "64\n",
            "9\n",
            "16\n"
          ]
        }
      ]
    },
    {
      "cell_type": "markdown",
      "source": [
        "18. Write a code that calculates the produect of positive numbers from a given list."
      ],
      "metadata": {
        "id": "ZcF51hdZjF0j"
      }
    },
    {
      "cell_type": "code",
      "source": [
        "x= [5,7,8,9,-5,-7]\n",
        "product =1\n",
        "for i in x:\n",
        "  if i>0:\n",
        "    product*=i\n",
        "print(product)\n"
      ],
      "metadata": {
        "colab": {
          "base_uri": "https://localhost:8080/"
        },
        "id": "Rg5L5BZRgIlg",
        "outputId": "17730957-99ee-459a-8a0b-cd14183cc41d"
      },
      "execution_count": null,
      "outputs": [
        {
          "output_type": "stream",
          "name": "stdout",
          "text": [
            "2520\n"
          ]
        }
      ]
    },
    {
      "cell_type": "markdown",
      "source": [
        "19. Write a code that doubles the values of odd numbers from a given list."
      ],
      "metadata": {
        "id": "iBKD3ndFh_rx"
      }
    },
    {
      "cell_type": "code",
      "source": [
        "x = [4,9,5,7,2]\n",
        "for i in range(0,len(x)):\n",
        "  if x[i]%2!=0:\n",
        "    x[i]*=2\n",
        "print(x)\n"
      ],
      "metadata": {
        "colab": {
          "base_uri": "https://localhost:8080/"
        },
        "id": "L2OOMCPBgdgl",
        "outputId": "6ccf3157-edf1-46fc-deef-1e5bc464515e"
      },
      "execution_count": null,
      "outputs": [
        {
          "output_type": "stream",
          "name": "stdout",
          "text": [
            "[4, 18, 10, 14, 2]\n"
          ]
        }
      ]
    },
    {
      "cell_type": "markdown",
      "source": [
        "20. Write a code that calculates the sum of cubes of numbers from a given list."
      ],
      "metadata": {
        "id": "IGWxoflshS9q"
      }
    },
    {
      "cell_type": "code",
      "source": [
        "x= [4,7,8,90]\n",
        "sum = 0\n",
        "for i in x:\n",
        "  sum += i**3\n",
        "print (sum)\n"
      ],
      "metadata": {
        "colab": {
          "base_uri": "https://localhost:8080/"
        },
        "id": "h6c9u8fDhpWA",
        "outputId": "7ef97ac5-d1cb-4e97-82ba-06a0f66f0399"
      },
      "execution_count": null,
      "outputs": [
        {
          "output_type": "stream",
          "name": "stdout",
          "text": [
            "729919\n"
          ]
        }
      ]
    },
    {
      "cell_type": "markdown",
      "source": [
        "21. Write a code that filters out prime numbers from a given list."
      ],
      "metadata": {
        "id": "4T29mXfAjnQ6"
      }
    },
    {
      "cell_type": "code",
      "source": [
        "x = [7,9,4,67,56,65,2]\n",
        "y =[]\n",
        "for i in x:\n",
        "  if i ==2 or i%2!= 0:\n",
        "    y.append(i)\n",
        "print(y)"
      ],
      "metadata": {
        "colab": {
          "base_uri": "https://localhost:8080/"
        },
        "id": "vUqND-ZYj-oc",
        "outputId": "bf641720-55bb-4f00-8b17-3b744cb6ebb2"
      },
      "execution_count": null,
      "outputs": [
        {
          "output_type": "stream",
          "name": "stdout",
          "text": [
            "[7, 9, 67, 65, 2]\n"
          ]
        }
      ]
    },
    {
      "cell_type": "markdown",
      "source": [
        "22.Write a code that uses a lambda function to calcucate the sum of two numbers."
      ],
      "metadata": {
        "id": "TNyBscMglBtp"
      }
    },
    {
      "cell_type": "code",
      "source": [
        "add = lambda a,b: a+b\n",
        "add(9, 6)"
      ],
      "metadata": {
        "colab": {
          "base_uri": "https://localhost:8080/"
        },
        "id": "OS58FjR0lF3D",
        "outputId": "fffb61b8-091b-478f-adb0-afe8f6dbc41c"
      },
      "execution_count": null,
      "outputs": [
        {
          "output_type": "execute_result",
          "data": {
            "text/plain": [
              "15"
            ]
          },
          "metadata": {},
          "execution_count": 6
        }
      ]
    },
    {
      "cell_type": "markdown",
      "source": [
        "23. Write a code that uses a lambda function to calculate the square of a given number."
      ],
      "metadata": {
        "id": "8jL2k6g7lZU5"
      }
    },
    {
      "cell_type": "code",
      "source": [
        "sq_lambda = lambda x: x**2\n",
        "sq_lambda(9)"
      ],
      "metadata": {
        "colab": {
          "base_uri": "https://localhost:8080/"
        },
        "id": "5rauFO5Bljvd",
        "outputId": "39627dfa-26f8-4d10-86fd-c07bde743f29"
      },
      "execution_count": null,
      "outputs": [
        {
          "output_type": "execute_result",
          "data": {
            "text/plain": [
              "81"
            ]
          },
          "metadata": {},
          "execution_count": 7
        }
      ]
    },
    {
      "cell_type": "markdown",
      "source": [
        "24. Write a code that uses a lambda function to check whether a given number is even or odd."
      ],
      "metadata": {
        "id": "PosCKzRvmGDf"
      }
    },
    {
      "cell_type": "code",
      "source": [
        "is_even = lambda x: x%2 == 0\n",
        "is_even(21)"
      ],
      "metadata": {
        "colab": {
          "base_uri": "https://localhost:8080/"
        },
        "id": "79Y8eVKbmILt",
        "outputId": "4d003630-26a8-48cb-90d9-6df74f2779e4"
      },
      "execution_count": null,
      "outputs": [
        {
          "output_type": "execute_result",
          "data": {
            "text/plain": [
              "False"
            ]
          },
          "metadata": {},
          "execution_count": 8
        }
      ]
    },
    {
      "cell_type": "markdown",
      "source": [
        "25. Write a code that uses a lambda function to concatenate two strings."
      ],
      "metadata": {
        "id": "EheXdmUwmnfE"
      }
    },
    {
      "cell_type": "code",
      "source": [
        "add = lambda a,b: a+b\n",
        "add(\"data\", \"science\")"
      ],
      "metadata": {
        "colab": {
          "base_uri": "https://localhost:8080/",
          "height": 35
        },
        "id": "YjP2ukrQmvZO",
        "outputId": "b9103f5c-5715-4841-cafc-7f76b86da2bd"
      },
      "execution_count": null,
      "outputs": [
        {
          "output_type": "execute_result",
          "data": {
            "text/plain": [
              "'datascience'"
            ],
            "application/vnd.google.colaboratory.intrinsic+json": {
              "type": "string"
            }
          },
          "metadata": {},
          "execution_count": 9
        }
      ]
    },
    {
      "cell_type": "markdown",
      "source": [
        "26. Write a code that uses a lambda function to find the maximum of three given numbers"
      ],
      "metadata": {
        "id": "zHD6AmYBnC94"
      }
    },
    {
      "cell_type": "code",
      "source": [
        "x = [109, 90, 9]\n",
        "maximum = max(x, key = lambda x: x)\n",
        "print(maximum)"
      ],
      "metadata": {
        "colab": {
          "base_uri": "https://localhost:8080/"
        },
        "id": "uu9p_g3znCPr",
        "outputId": "a9e4d6e5-2e33-445d-9d03-704cb8ee74ec"
      },
      "execution_count": null,
      "outputs": [
        {
          "output_type": "stream",
          "name": "stdout",
          "text": [
            "109\n"
          ]
        }
      ]
    },
    {
      "cell_type": "markdown",
      "source": [
        "27. What is encapsulation in OOP?"
      ],
      "metadata": {
        "id": "lKEqPNfin-KY"
      }
    },
    {
      "cell_type": "markdown",
      "source": [
        "Encapsulation is one of the fundamentals of OOP (object-oriented programming). It refers to the bundling of data with the methods that operate on that data. Encapsulation is used to hide the values or state of a structured data object inside a class, preventing unauthorized parties' direct access to them."
      ],
      "metadata": {
        "id": "dQMhq0wtn-mw"
      }
    },
    {
      "cell_type": "markdown",
      "source": [
        "28. Explain the use of access modifiers in Python classes."
      ],
      "metadata": {
        "id": "xLciSmShoVfO"
      }
    },
    {
      "cell_type": "markdown",
      "source": [
        "Python supports three types of access modifiers which are public,private and protected. These access modifiers provide restrictions on the access of member variables and methods of the class from any object outside the class"
      ],
      "metadata": {
        "id": "8ktkgUlxpA3m"
      }
    },
    {
      "cell_type": "markdown",
      "source": [
        "29.What is inheritance in OOP."
      ],
      "metadata": {
        "id": "iAFKemX0pX_3"
      }
    },
    {
      "cell_type": "markdown",
      "source": [
        "Inheritance allows us to define a class that inherits all the methods and properties from another class. Parent class is the class being inherited from, also called base class. Child class is the class that inherits from another class, also called derived class."
      ],
      "metadata": {
        "id": "OvbQiTMNpxis"
      }
    },
    {
      "cell_type": "markdown",
      "source": [
        "30.define polymorphism in OOP."
      ],
      "metadata": {
        "id": "DFOEwXKGp-Z4"
      }
    },
    {
      "cell_type": "markdown",
      "source": [
        "In object-oriented-based Python programming, Polymorphism means the same function name is being used for different types. Each function is differentiated based on its data type and number of arguments. So, each function has a different signature. This allows developers to write clean, readable, and resilient codes"
      ],
      "metadata": {
        "id": "vMAeIwyRqQlE"
      }
    },
    {
      "cell_type": "markdown",
      "source": [
        "31.Explain method overriding in Python."
      ],
      "metadata": {
        "id": "ZQp6yi2kqek8"
      }
    },
    {
      "cell_type": "markdown",
      "source": [
        "Method overriding in Python is when you have two methods with the same name that each perform different tasks. This is an important feature of inheritance in Python. In method overriding, the child class can change its functions that are defined by its ancestral classes"
      ],
      "metadata": {
        "id": "JoE3ZKNmqsZM"
      }
    },
    {
      "cell_type": "markdown",
      "source": [
        "32.define a parent class animal with a method make_sound that prints 'Generic animal sound'. Create a\n",
        "child class dog inheriting from animal with a method make_sound that prints 'Woof!'."
      ],
      "metadata": {
        "id": "owwdj84NrDHY"
      }
    },
    {
      "cell_type": "code",
      "source": [
        "class Animal:\n",
        "  def make_sound(self):\n",
        "    print(\"generic animal sound\")\n",
        "\n",
        "class Dog(Animal):\n",
        "  def make_sound_d(self):\n",
        "    print(\"woof\")\n",
        "\n",
        "dog = Dog()\n",
        "dog.make_sound()\n"
      ],
      "metadata": {
        "colab": {
          "base_uri": "https://localhost:8080/"
        },
        "id": "_3gkrJ_qtuQT",
        "outputId": "8e7ced75-8af2-455f-8e86-afef5fd04900"
      },
      "execution_count": null,
      "outputs": [
        {
          "output_type": "stream",
          "name": "stdout",
          "text": [
            "generic animal sound\n"
          ]
        }
      ]
    },
    {
      "cell_type": "markdown",
      "source": [
        "33.Define a method move in the animal class that prints \"animal moves\". Override the move method in the\n",
        "dog class to print \"dog runs\"."
      ],
      "metadata": {
        "id": "rPsROlRwx9Tq"
      }
    },
    {
      "cell_type": "code",
      "source": [
        "class Animal:\n",
        "  def move(self):\n",
        "    print(\"animal moves\")\n",
        "\n",
        "class Dog(Animal):\n",
        "  def move(self):\n",
        "    print(\"dog runs\")\n",
        "\n",
        "dog = Dog()\n",
        "dog.move()\n"
      ],
      "metadata": {
        "colab": {
          "base_uri": "https://localhost:8080/"
        },
        "id": "5e89mqFmzhRW",
        "outputId": "d6f16d77-7f91-4900-c2b9-a6e1a129458d"
      },
      "execution_count": null,
      "outputs": [
        {
          "output_type": "stream",
          "name": "stdout",
          "text": [
            "dog runs\n"
          ]
        }
      ]
    },
    {
      "cell_type": "markdown",
      "source": [
        "34.Create a class Mammal with a method reproduce that prints \"Giving birth to live young.\" Create a class DogMammal inherrting from both dog and Mammal."
      ],
      "metadata": {
        "id": "Y48Vq1sQ1AeX"
      }
    },
    {
      "cell_type": "code",
      "source": [
        "class Mammal:\n",
        "  def reprouduce(self):\n",
        "    print(\"giving birth to live young\")\n",
        "class Dog:\n",
        "  def reproduce_d(self):\n",
        "    print(\"giving birth to child dog\")\n",
        "class DogMammal(Mammal,Dog):\n",
        "  print(\"cute dog\")\n",
        "g = DogMammal()\n",
        "g.reprouduce()\n",
        "g.reproduce_d()"
      ],
      "metadata": {
        "colab": {
          "base_uri": "https://localhost:8080/"
        },
        "id": "B8KntpnP2ElT",
        "outputId": "4132e13e-c4b2-469d-e8f8-7ba33ea0c7a5"
      },
      "execution_count": null,
      "outputs": [
        {
          "output_type": "stream",
          "name": "stdout",
          "text": [
            "cute dog\n",
            "giving birth to live young\n",
            "giving birth to child dog\n"
          ]
        }
      ]
    },
    {
      "cell_type": "markdown",
      "source": [
        "35.Create a class Germanshepherd inheriting from dog and override the make_sound method to print \"Bark!\""
      ],
      "metadata": {
        "id": "Voqi2N3h3zhW"
      }
    },
    {
      "cell_type": "code",
      "source": [
        "class Dog:\n",
        "  def make_sound(self):\n",
        "    print(\"woof\")\n",
        "class GermanShepherd(Dog):\n",
        "  def make_sound(self):\n",
        "    print(\"bark\")\n",
        "G = GermanShepherd()\n",
        "G.make_sound()"
      ],
      "metadata": {
        "colab": {
          "base_uri": "https://localhost:8080/"
        },
        "id": "GKxmFPJo4mQu",
        "outputId": "30b2f4fb-cb70-4774-c10e-303a6bdc332f"
      },
      "execution_count": null,
      "outputs": [
        {
          "output_type": "stream",
          "name": "stdout",
          "text": [
            "bark\n"
          ]
        }
      ]
    },
    {
      "cell_type": "markdown",
      "source": [
        "36. define constructors in both the animal and dog classes with different initialization parameters."
      ],
      "metadata": {
        "id": "pnmbGU8H5Lr-"
      }
    },
    {
      "cell_type": "code",
      "source": [
        "class Animal:\n",
        "  def __init__(self,name,age):\n",
        "    self.name = name\n",
        "    self.age = age\n",
        "class Dog(Animal):\n",
        "  def __init__(self,name,age,breed):\n",
        "    super().__init__(name,age)\n",
        "    self.breed = breed\n",
        "dog = Dog(\"tom\",8,\"pug\")\n",
        "print(dog.name)\n",
        "print(dog.age)\n",
        "print(dog.breed)"
      ],
      "metadata": {
        "colab": {
          "base_uri": "https://localhost:8080/"
        },
        "id": "6CvxHbJe50i8",
        "outputId": "7b7d7a50-07d5-4b2f-8f3d-e4ea03200b80"
      },
      "execution_count": null,
      "outputs": [
        {
          "output_type": "stream",
          "name": "stdout",
          "text": [
            "tom\n",
            "8\n",
            "pug\n"
          ]
        }
      ]
    },
    {
      "cell_type": "markdown",
      "source": [
        "37.What is abstraction in Python? How is it implemented?"
      ],
      "metadata": {
        "id": "kEHcwUak75jl"
      }
    },
    {
      "cell_type": "markdown",
      "source": [
        "Abstraction is a fundamental concept in Python programming that allows us to simplify complex concepts and focus on the essential details. It involves hiding unnecessary details and exposing only the relevant information to the users.\n",
        "\n",
        "Through the process of abstraction, a programmer hides all but the relevant data about an object in order to reduce complexity and increase efficiency. In the same way that abstraction sometimes works in art, the object that remains is a representation of the original, with unwanted detail omitted"
      ],
      "metadata": {
        "id": "wd_EWy788U3Q"
      }
    },
    {
      "cell_type": "markdown",
      "source": [
        "38.Explain the importance of abstraction in object-oriented programming."
      ],
      "metadata": {
        "id": "cRrLxQbf86Js"
      }
    },
    {
      "cell_type": "markdown",
      "source": [
        "Abstraction, in the context of OOP, refers to the ability to hide complex implementation details and show only the necessary features of an object. This simplifies the interaction with objects, making programming more intuitive and efficient"
      ],
      "metadata": {
        "id": "d9NO9rcX9iuj"
      }
    },
    {
      "cell_type": "markdown",
      "source": [
        "39. How are abstract methods different from regular methods in Python."
      ],
      "metadata": {
        "id": "gOVnXaGF9luB"
      }
    },
    {
      "cell_type": "markdown",
      "source": [
        "An abstract method is a method that has a declaration but does not have an implementation. We use an abstract class while we are designing large functional units or when we want to provide a common interface for different implementations of a component"
      ],
      "metadata": {
        "id": "Qu5JuVgM-feA"
      }
    },
    {
      "cell_type": "markdown",
      "source": [
        "40. How can you achieve abstraction using interfaces in Python."
      ],
      "metadata": {
        "id": "dayNml3a-iFM"
      }
    },
    {
      "cell_type": "markdown",
      "source": [
        "Abstraction in Python is achieved using abstract classes or interfaces provided by the \"abc\" module. Abstract classes define a common interface for their subclasses, while interfaces define a set of methods that must be implemented by classes that implement the interface."
      ],
      "metadata": {
        "id": "YvZcHWmW_EU1"
      }
    },
    {
      "cell_type": "markdown",
      "source": [
        "41. Can you provide an example of how abstraction can be utilized to create a common interface for a group\n",
        "of related classes in Python."
      ],
      "metadata": {
        "id": "CzQ77Hdx_GHu"
      }
    },
    {
      "cell_type": "code",
      "source": [
        "import abc\n",
        "class Shape:\n",
        "    @abc.abstractmethod\n",
        "    def calculate_area(self):\n",
        "        pass\n",
        "\n",
        "class Rectange(Shape):\n",
        "    def calculate_area(self):\n",
        "        print(\"Area of rectangle : length * breadth\")\n",
        "class Circle(Shape):\n",
        "    def calculate_area(self):\n",
        "        print(\"Area of circle : pi r**2\")\n",
        "\n",
        "rect = Rectange()\n",
        "rect.calculate_area()"
      ],
      "metadata": {
        "colab": {
          "base_uri": "https://localhost:8080/"
        },
        "id": "WP9qhPzJ_6D4",
        "outputId": "fc3dc180-1eb6-4ecc-dbea-f9b260bab786"
      },
      "execution_count": null,
      "outputs": [
        {
          "output_type": "stream",
          "name": "stdout",
          "text": [
            "Area of rectangle : length * breadth\n"
          ]
        }
      ]
    },
    {
      "cell_type": "markdown",
      "source": [
        "42. How does Python achieve polymorphism through method overriding."
      ],
      "metadata": {
        "id": "4yOHVjai8mD_"
      }
    },
    {
      "cell_type": "markdown",
      "source": [
        "Method Overriding refers to the technique of re-implementing a method in a child class. As you can see, the Python interpreter detects that the car object's max_speed() and gear_system() methods are overridden due to polymorphism. As a result, it employs the one defined in the child class (Car)."
      ],
      "metadata": {
        "id": "flue_doT9W32"
      }
    },
    {
      "cell_type": "markdown",
      "source": [
        "43.  Define a base class with a method and a subclass that overrides the method."
      ],
      "metadata": {
        "id": "fI5SAS7a9agz"
      }
    },
    {
      "cell_type": "markdown",
      "source": [
        "Method overriding is a concept in object-oriented programming where a subclass provides a specific implementation for a method that is already defined in its superclass. This allows a subclass to customize or extend the behavior of methods inherited from its superclass."
      ],
      "metadata": {
        "id": "rN-pVEcm-Css"
      }
    },
    {
      "cell_type": "markdown",
      "source": [
        "44. Define a base class and multiple subclasses with overridden methods."
      ],
      "metadata": {
        "id": "m17GBZZP-HGI"
      }
    },
    {
      "cell_type": "markdown",
      "source": [
        "An override method provides a new implementation of the method inherited from a base class. The method that is overridden by an override declaration is known as the overridden base method. An override method must have the same signature as the overridden base method. override methods support covariant return types."
      ],
      "metadata": {
        "id": "UO8EbueU-_J_"
      }
    },
    {
      "cell_type": "markdown",
      "source": [
        "45. How does polymorphism improve code readability and reusability."
      ],
      "metadata": {
        "id": "w09pKQiS_BQ0"
      }
    },
    {
      "cell_type": "markdown",
      "source": [
        "Polymorphism enhances code readability by promoting code reuse and eliminating redundancy. With polymorphism, you can write generic code that operates on objects of different types without needing to know their specific implementations. This leads to shorter, more concise code that is easier to understand and maintain."
      ],
      "metadata": {
        "id": "JZcOyyhU_gtE"
      }
    },
    {
      "cell_type": "markdown",
      "source": [
        "46. Describe how Python supports polymorphism with duck typing."
      ],
      "metadata": {
        "id": "ajuyozPa_uUI"
      }
    },
    {
      "cell_type": "markdown",
      "source": [
        "Duck typing is the principle that allows for the implicit implementation of polymorphism in Python. There's no need to explicitly declare interfaces or return types. If an object has the necessary method or attribute, you can use it, regardless of the object's class or inheritance hierarchy."
      ],
      "metadata": {
        "id": "GEkrbUcLATph"
      }
    },
    {
      "cell_type": "markdown",
      "source": [
        "47.How do you achieve encapsulation in Python."
      ],
      "metadata": {
        "id": "_ZQz3ozSAWP0"
      }
    },
    {
      "cell_type": "markdown",
      "source": [
        "The meaning of Encapsulation, is to make sure that \"sensitive\" data is hidden from users. To achieve this, you must: declare class variables/attributes as private. provide public get and set methods to access and update the value of a private variable"
      ],
      "metadata": {
        "id": "uPLMyjCABhAB"
      }
    },
    {
      "cell_type": "code",
      "source": [
        "class Student:\n",
        "    def __init__(self, name, degree):\n",
        "        self.name = name\n",
        "        self.__degree = degree\n",
        "\n",
        "    def show(self):\n",
        "        #accessing the public and private data member\n",
        "        print(\"name\", self.name, 'degree', self.__degree)\n",
        "\n",
        "stud = Student(\"Ramesh\", \"Masters\")\n",
        "stud.show()"
      ],
      "metadata": {
        "colab": {
          "base_uri": "https://localhost:8080/"
        },
        "id": "rk7vdWOyBksn",
        "outputId": "77ac3611-af1f-4a13-e8d3-8650582cfe88"
      },
      "execution_count": null,
      "outputs": [
        {
          "output_type": "stream",
          "name": "stdout",
          "text": [
            "name Ramesh degree Masters\n"
          ]
        }
      ]
    },
    {
      "cell_type": "markdown",
      "source": [
        "48.  Can encapsulation be bypassed in Python? If so, how?"
      ],
      "metadata": {
        "id": "dlg9fgpPCIhH"
      }
    },
    {
      "cell_type": "code",
      "source": [
        "class College:\n",
        "    def __init__(self):\n",
        "        self._college_name = \"PWskills\"\n",
        "\n",
        "class Student(College):\n",
        "    def __init__(self, name):\n",
        "        self.name = name\n",
        "        College.__init__(self)\n",
        "\n",
        "    def show(self):\n",
        "        print(\"name\", self.name, \"college\", self._college_name)\n",
        "\n",
        "stud = Student(\"Ramesh\")\n",
        "stud.show()\n"
      ],
      "metadata": {
        "colab": {
          "base_uri": "https://localhost:8080/"
        },
        "id": "_2aEbJYEDAXY",
        "outputId": "47f2bcde-3f0f-4376-8b50-3968ccf432e2"
      },
      "execution_count": null,
      "outputs": [
        {
          "output_type": "stream",
          "name": "stdout",
          "text": [
            "name Ramesh college PWskills\n"
          ]
        }
      ]
    },
    {
      "cell_type": "markdown",
      "source": [
        "49. Implement a class BankAccount with a private balance attribute. Include methods to deposit, withdraw,\n",
        "and check the balance."
      ],
      "metadata": {
        "id": "jHovS1foDmjl"
      }
    },
    {
      "cell_type": "code",
      "source": [
        "class Bank:\n",
        "\n",
        "    def __init__(self, balance):\n",
        "        self.__balance = balance\n",
        "\n",
        "    def deposit(self, amount):\n",
        "        self.__balance = self.__balance + amount\n",
        "\n",
        "    def withdraw(self, amount):\n",
        "        if self.__balance >= amount:\n",
        "            self.__balance = self.__balance - amount\n",
        "            return True\n",
        "        else:\n",
        "            return False\n",
        "\n",
        "    def get_balance(self):\n",
        "        return self.__balance\n",
        "\n",
        "acc = Bank(1000)\n",
        "acc.deposit(500)\n",
        "acc.withdraw(200)\n",
        "print(acc.get_balance())"
      ],
      "metadata": {
        "colab": {
          "base_uri": "https://localhost:8080/"
        },
        "id": "lqHzrFHjDl2r",
        "outputId": "760423f8-4c7c-415e-c799-c8c5e04ada0a"
      },
      "execution_count": null,
      "outputs": [
        {
          "output_type": "stream",
          "name": "stdout",
          "text": [
            "1300\n"
          ]
        }
      ]
    },
    {
      "cell_type": "markdown",
      "source": [
        "50.Develop a Person class with private attributes name and email, and methods to set and get the email."
      ],
      "metadata": {
        "id": "abyPf2aTEtLz"
      }
    },
    {
      "cell_type": "code",
      "source": [
        "class Person:\n",
        "  def __init__ (self,name,email):\n",
        "    self.__name = name\n",
        "    self.__email = email\n",
        "  def set_email(self,email):\n",
        "    self.__email = email\n",
        "  def get_email(self):\n",
        "    return self.__email\n",
        "c = Person(\"shiv\",\"shiv@gmail.com\")\n",
        "c.set_email(\"shiv@gmail.com\")\n",
        "print(c.get_email())\n",
        "\n"
      ],
      "metadata": {
        "colab": {
          "base_uri": "https://localhost:8080/"
        },
        "id": "GXwI6HPtFCKj",
        "outputId": "c3b9da45-8ac8-445a-9438-3bf60628aab7"
      },
      "execution_count": null,
      "outputs": [
        {
          "output_type": "stream",
          "name": "stdout",
          "text": [
            "shiv@gmail.com\n"
          ]
        }
      ]
    },
    {
      "cell_type": "markdown",
      "source": [
        "51.Why is encapsulation considered a pillar of object-oriented programming (OOP)?"
      ],
      "metadata": {
        "id": "9tTYAMXQGxx4"
      }
    },
    {
      "cell_type": "markdown",
      "source": [
        "Encapsulation is a key principle of object-oriented programming that promotes data hiding, abstraction, and modularity. By encapsulating data and behavior within a class, developers can create more secure, reusable, and maintainable code"
      ],
      "metadata": {
        "id": "TS16Nxh1HM1X"
      }
    },
    {
      "cell_type": "markdown",
      "source": [
        "52 .Create a decorator in python that adds functionally to a simple by function by printing a message before and after the function and excuation."
      ],
      "metadata": {
        "id": "Q9YiIML4HO2G"
      }
    },
    {
      "cell_type": "code",
      "source": [
        "class MyDecorator:\n",
        "    def __init__(self, func):\n",
        "        self.func = func\n",
        "    def __call__(self):\n",
        "        print(\"something is happening before func\")\n",
        "        self.func()\n",
        "        print(\"something is happening after func\")\n",
        "\n",
        "@MyDecorator\n",
        "def say_hello():\n",
        "    print(\"hello\")\n",
        "\n",
        "say_hello()\n",
        "\n"
      ],
      "metadata": {
        "colab": {
          "base_uri": "https://localhost:8080/"
        },
        "id": "_CUq3VSzI1b2",
        "outputId": "16077dcb-f63b-4182-ddac-449fcb1132c6"
      },
      "execution_count": null,
      "outputs": [
        {
          "output_type": "stream",
          "name": "stdout",
          "text": [
            "something is happening before func\n",
            "hello\n",
            "something is happening after func\n"
          ]
        }
      ]
    },
    {
      "cell_type": "markdown",
      "source": [
        "53. Modify the decorator to accept arguments and print the functions name along with the message."
      ],
      "metadata": {
        "id": "RH0-qOKHJTbd"
      }
    },
    {
      "cell_type": "code",
      "source": [
        "class MyDecorator:\n",
        "    def __init__(self, func):\n",
        "        self.func = func\n",
        "    def __call__(self):\n",
        "        print(\"something is happening before func\")\n",
        "        self.func()\n",
        "        print(\"something is happening after func\")\n",
        "\n",
        "@MyDecorator\n",
        "def say_hello():\n",
        "    print(\"hello\")\n",
        "\n",
        "say_hello()"
      ],
      "metadata": {
        "colab": {
          "base_uri": "https://localhost:8080/"
        },
        "id": "yAxOt0X3J_Oz",
        "outputId": "5aeaffeb-735a-4a0b-a9c3-a53a218d3317"
      },
      "execution_count": null,
      "outputs": [
        {
          "output_type": "stream",
          "name": "stdout",
          "text": [
            "something is happening before func\n",
            "hello\n",
            "something is happening after func\n"
          ]
        }
      ]
    },
    {
      "cell_type": "markdown",
      "source": [
        "54. create a decorators,apply them to a single function.Ensure that they excute in the order they applied."
      ],
      "metadata": {
        "id": "JTMiGKxjLQ0e"
      }
    },
    {
      "cell_type": "code",
      "source": [
        "import time\n",
        "def timer_decorator(func):\n",
        "    def timer():\n",
        "        start = time.time()\n",
        "        func()\n",
        "        end = time.time()\n",
        "        print(end-start)\n",
        "    return timer\n",
        "@timer_decorator\n",
        "def func_test():\n",
        "    print(1100*1000000)\n",
        "func_test()\n",
        "\n"
      ],
      "metadata": {
        "colab": {
          "base_uri": "https://localhost:8080/"
        },
        "id": "Rx_NMIRPMVf1",
        "outputId": "2298bd36-e011-4926-bbcb-82caefc3b1b5"
      },
      "execution_count": null,
      "outputs": [
        {
          "output_type": "stream",
          "name": "stdout",
          "text": [
            "1100000000\n",
            "0.001840829849243164\n"
          ]
        }
      ]
    },
    {
      "cell_type": "markdown",
      "source": [
        "55. Modify the decorator to accept and pass function arguments to the wrapped function"
      ],
      "metadata": {
        "id": "guxNzpfDNEJZ"
      }
    },
    {
      "cell_type": "code",
      "source": [
        "def my_decorator(func):\n",
        "    def wrapper():\n",
        "        print(\"The lines being printed before the func.\")\n",
        "        func()\n",
        "        print(\"The lines being printed after the func.\")\n",
        "    return wrapper\n",
        "@my_decorator\n",
        "def say_hello():\n",
        "    print(\"hello\")\n",
        "\n",
        "say_hello()"
      ],
      "metadata": {
        "colab": {
          "base_uri": "https://localhost:8080/"
        },
        "id": "WiXLesu2Nru6",
        "outputId": "4ec64b4f-3628-4715-adc6-dcd325643973"
      },
      "execution_count": null,
      "outputs": [
        {
          "output_type": "stream",
          "name": "stdout",
          "text": [
            "The lines being printed before the func.\n",
            "hello\n",
            "The lines being printed after the func.\n"
          ]
        }
      ]
    },
    {
      "cell_type": "markdown",
      "source": [
        "56. Create a decorater that preserves the metadata of the original function"
      ],
      "metadata": {
        "id": "KyLBiiPyO5xr"
      }
    },
    {
      "cell_type": "code",
      "source": [
        "def my_decorator_func():\n",
        "    print(\"The lines being printed before the comp.\")\n",
        "    print(1+11)\n",
        "    print(\"The lines being printed after the comp.\")\n",
        "\n",
        "my_decorator_func()"
      ],
      "metadata": {
        "colab": {
          "base_uri": "https://localhost:8080/"
        },
        "id": "W7Duux8HPjTj",
        "outputId": "618cf166-8082-41ac-a4b8-82ea64a60bc7"
      },
      "execution_count": null,
      "outputs": [
        {
          "output_type": "stream",
          "name": "stdout",
          "text": [
            "The lines being printed before the comp.\n",
            "12\n",
            "The lines being printed after the comp.\n"
          ]
        }
      ]
    },
    {
      "cell_type": "markdown",
      "source": [
        "57. Create a python class calculator with static method,add that takes in two numbers and return their sum."
      ],
      "metadata": {
        "id": "pPWclA2dPvl8"
      }
    },
    {
      "cell_type": "code",
      "source": [
        "class Math:\n",
        "    @staticmethod\n",
        "    def add(x, y):\n",
        "        return x+y\n",
        "\n",
        "print(Math.add(2, 3))"
      ],
      "metadata": {
        "colab": {
          "base_uri": "https://localhost:8080/"
        },
        "id": "xXNmXnLuQSsy",
        "outputId": "228b8165-cb16-45c0-93db-9546e3f1df75"
      },
      "execution_count": null,
      "outputs": [
        {
          "output_type": "stream",
          "name": "stdout",
          "text": [
            "5\n"
          ]
        }
      ]
    },
    {
      "cell_type": "markdown",
      "source": [
        "58. Create python class employee with a class 'method get_employee_count'that returns the total numbers of employee created."
      ],
      "metadata": {
        "id": "Z2G5gsf-Qzzi"
      }
    },
    {
      "cell_type": "code",
      "source": [
        "class Student:\n",
        "\n",
        "    total_students = 0\n",
        "    def __init__(self, name): #instance\n",
        "        self.name = name\n",
        "        Student.total_students = Student.total_students + 1\n",
        "\n",
        "    @classmethod#bound to the class\n",
        "    def get_total_students(cls):\n",
        "        return cls.total_students\n",
        "\n",
        "s1 = Student(\"Ramesh\")\n",
        "s2 = Student(\"Suresh\")\n",
        "print(Student.get_total_students())"
      ],
      "metadata": {
        "colab": {
          "base_uri": "https://localhost:8080/"
        },
        "id": "cqQmoCXfRcfj",
        "outputId": "ce28d7c9-078b-4c85-e0bd-328e48cb97b4"
      },
      "execution_count": null,
      "outputs": [
        {
          "output_type": "stream",
          "name": "stdout",
          "text": [
            "2\n"
          ]
        }
      ]
    },
    {
      "cell_type": "markdown",
      "source": [
        "60. Create a python class circle with a class method calculate_area that calculate the area of a circle given the radius."
      ],
      "metadata": {
        "id": "rPFcDERQS4Cf"
      }
    },
    {
      "cell_type": "code",
      "source": [
        "class Circle:\n",
        "    def __init__(self, radius):\n",
        "        self.__radius = radius\n",
        "    @property\n",
        "    def radius(self):\n",
        "        return self.__radius\n",
        "    @radius.setter\n",
        "    def radius(self, value):\n",
        "        if value <= 0:\n",
        "            raise ValueError(\"Radius is not pos\")\n",
        "        self.__radius =value\n",
        "    def area(self):\n",
        "        return 3.14 * self.__radius * self.__radius\n",
        "\n",
        "c = Circle(5)\n",
        "c.area()"
      ],
      "metadata": {
        "colab": {
          "base_uri": "https://localhost:8080/"
        },
        "id": "_aUdslRAS2fb",
        "outputId": "c3e78e89-300c-4e40-a26d-a3a69fc9d553"
      },
      "execution_count": null,
      "outputs": [
        {
          "output_type": "execute_result",
          "data": {
            "text/plain": [
              "78.5"
            ]
          },
          "metadata": {},
          "execution_count": 16
        }
      ]
    },
    {
      "cell_type": "markdown",
      "source": [
        "61. Create a Python class Temparature converter with a staticmethod celcius to fahrenhite that covertes celcius to farenhite."
      ],
      "metadata": {
        "id": "dpjpQ2D4V1R5"
      }
    },
    {
      "cell_type": "code",
      "source": [
        "class TemperatureConverter:\n",
        "    @staticmethod\n",
        "    def celcius_to_fahrenheit(celcius):\n",
        "        return (celcius * 9/5) + 32\n",
        "\n",
        "print(TemperatureConverter.celcius_to_fahrenheit(10))"
      ],
      "metadata": {
        "colab": {
          "base_uri": "https://localhost:8080/"
        },
        "id": "upa76UunWccZ",
        "outputId": "4ae76dc8-64ae-4090-f2f0-67fbb1392db8"
      },
      "execution_count": null,
      "outputs": [
        {
          "output_type": "stream",
          "name": "stdout",
          "text": [
            "50.0\n"
          ]
        }
      ]
    },
    {
      "cell_type": "markdown",
      "source": [
        "62.What is the purpose of the __str__() method in python classes.provide the example"
      ],
      "metadata": {
        "id": "utMuXdIDWuaf"
      }
    },
    {
      "cell_type": "markdown",
      "source": [
        "The __str__ method in Python represents the class objects as a string – it can be used for classes. The __str__ method should be defined in a way that is easy to read and outputs all the members of the class."
      ],
      "metadata": {
        "id": "UwMS4OTYXfS2"
      }
    },
    {
      "cell_type": "code",
      "source": [
        "class String:\n",
        "  def __str__(self):\n",
        "    return \"This is a string\"\n",
        "s= String()\n",
        "print(s)"
      ],
      "metadata": {
        "colab": {
          "base_uri": "https://localhost:8080/"
        },
        "id": "4iltgfK9YIhx",
        "outputId": "19b1d522-fa21-4dd7-ba6b-2240965992f7"
      },
      "execution_count": null,
      "outputs": [
        {
          "output_type": "stream",
          "name": "stdout",
          "text": [
            "This is a string\n"
          ]
        }
      ]
    },
    {
      "cell_type": "markdown",
      "source": [
        "63.How does the __len__()method work in Python.provide a example"
      ],
      "metadata": {
        "id": "J1zYClcjYrtL"
      }
    },
    {
      "cell_type": "markdown",
      "source": [
        "One of the most commonly used special methods in Python is the `__len__` method. This method allows us to determine the length of an object. The `__len__` method is called automatically when we use the built-in `len()` function on an object. This will output `5`, which is the length of the list"
      ],
      "metadata": {
        "id": "x4jU3p2YZMaT"
      }
    },
    {
      "cell_type": "code",
      "source": [
        "class MyLen:\n",
        "  def __len__(self):\n",
        "    return 5\n",
        "l = MyLen()\n",
        "print(l)\n"
      ],
      "metadata": {
        "colab": {
          "base_uri": "https://localhost:8080/"
        },
        "id": "TYulB6oRZOfr",
        "outputId": "db35ea8c-041d-42c0-bef5-9932c4238cff"
      },
      "execution_count": null,
      "outputs": [
        {
          "output_type": "stream",
          "name": "stdout",
          "text": [
            "<__main__.MyLen object at 0x7e117d1f9540>\n"
          ]
        }
      ]
    },
    {
      "cell_type": "markdown",
      "source": [
        "64. explain the usages of the __add__()method in python in python classes.give Example."
      ],
      "metadata": {
        "id": "XwajFjAmoOPx"
      }
    },
    {
      "cell_type": "markdown",
      "source": [
        "__add__ magic method is used to add the attributes of the class instance. For example, let's say object1 is an instance of a class A and object2 is an instance of class B and both of these classes have an attribute called 'a', that holds an integer."
      ],
      "metadata": {
        "id": "p56hgGO5pGX2"
      }
    },
    {
      "cell_type": "code",
      "source": [
        "class Sum:\n",
        "  def __add__(self,a,b):\n",
        "    return a+b\n",
        "s=Sum()\n",
        "print(s.__add__(2,3))"
      ],
      "metadata": {
        "colab": {
          "base_uri": "https://localhost:8080/"
        },
        "id": "ATeWoOy_pMC9",
        "outputId": "542e3d36-60aa-4b6a-9cb9-56dcd35f2489"
      },
      "execution_count": 1,
      "outputs": [
        {
          "output_type": "stream",
          "name": "stdout",
          "text": [
            "5\n"
          ]
        }
      ]
    },
    {
      "cell_type": "markdown",
      "source": [
        "65. What is the purpose of the __getitem__() method in python. Give Example"
      ],
      "metadata": {
        "id": "T9HyxS7qpnwr"
      }
    },
    {
      "cell_type": "markdown",
      "source": [
        "__getitem__ method is used to get an item from the invoked instances' attribute. __getitem__ is commonly used with containers like list, tuple, etc. __setitem__ method is used to set the item into a specific index of the invoked instances' attribute. Similar to __getitem__, __setitem__ is also used with containers."
      ],
      "metadata": {
        "id": "ZBQGryAtqICx"
      }
    },
    {
      "cell_type": "code",
      "source": [
        "class G_item:\n",
        "  def __getitem__(self,index):\n",
        "    return index\n",
        "g = G_item()\n",
        "print(g[1,6,8,9])"
      ],
      "metadata": {
        "colab": {
          "base_uri": "https://localhost:8080/"
        },
        "id": "h8pez-7AqKIo",
        "outputId": "7df67e11-9883-4906-d33a-27d058ce3073"
      },
      "execution_count": 3,
      "outputs": [
        {
          "output_type": "stream",
          "name": "stdout",
          "text": [
            "(1, 6, 8, 9)\n"
          ]
        }
      ]
    },
    {
      "cell_type": "markdown",
      "source": [
        "66. Explain the usages of the __iter__()and __next()methods in python.provide an example using iteritors"
      ],
      "metadata": {
        "id": "xbx_nSIjqjUM"
      }
    },
    {
      "cell_type": "markdown",
      "source": [
        "The __iter__() method – returns an iterator object. This is required in order to use containers and iterators with the for and in statements. The __next__() method – This function returns the sequence's next item"
      ],
      "metadata": {
        "id": "UAYmR1acrL02"
      }
    },
    {
      "cell_type": "code",
      "source": [
        "mytuple = (\"apple\", \"banana\", \"cherry\")\n",
        "myit = iter(mytuple)\n",
        "print(next(myit))\n",
        "print(next(myit))\n",
        "print(next(myit))"
      ],
      "metadata": {
        "colab": {
          "base_uri": "https://localhost:8080/"
        },
        "id": "n58G4o7BrOMd",
        "outputId": "87ec017d-0622-4c36-d450-478caf97fb06"
      },
      "execution_count": 4,
      "outputs": [
        {
          "output_type": "stream",
          "name": "stdout",
          "text": [
            "apple\n",
            "banana\n",
            "cherry\n"
          ]
        }
      ]
    },
    {
      "cell_type": "markdown",
      "source": [
        "67.What is the purpose of getter method in python?Provide an example demonstarating the use of a getter using property decorater."
      ],
      "metadata": {
        "id": "LNqx0EHJrw0Q"
      }
    },
    {
      "cell_type": "markdown",
      "source": [
        "In Python, since private variables cannot be accessed directly, the getter method provides a way to retrieve them from outside the class, thereby helping in data encapsulation. The getter method typically allows read-only access to the properties of an object."
      ],
      "metadata": {
        "id": "yE-mzp3fsbsG"
      }
    },
    {
      "cell_type": "code",
      "source": [
        "class Student:\n",
        "    def __init__(self, name, price):\n",
        "        self.__name = name\n",
        "        self.__price = price\n",
        "\n",
        "    @property #it will make accesS_price as attribute of the class\n",
        "    def access_price(self):\n",
        "        return self.__price\n",
        "stud = Student(\"Ajay\", 2000)\n",
        "stud.access_price"
      ],
      "metadata": {
        "colab": {
          "base_uri": "https://localhost:8080/"
        },
        "id": "9GoNA1dQsdfg",
        "outputId": "a30cc65b-13e4-4a8f-9f97-41d1e7009e8c"
      },
      "execution_count": 5,
      "outputs": [
        {
          "output_type": "execute_result",
          "data": {
            "text/plain": [
              "2000"
            ]
          },
          "metadata": {},
          "execution_count": 5
        }
      ]
    },
    {
      "cell_type": "markdown",
      "source": [
        "68.Explain the role of setter methods in python.Demonstrate how to use a setter method to modify a class atribute to using proerty decorator."
      ],
      "metadata": {
        "id": "khHdWI2HtOJj"
      }
    },
    {
      "cell_type": "markdown",
      "source": [
        " A method that allows you to set or mutate the value of an attribute in a class"
      ],
      "metadata": {
        "id": "FGzXJsEruw7q"
      }
    },
    {
      "cell_type": "code",
      "source": [
        "class Student:\n",
        "    def __init__(self, name, price):\n",
        "        self.__name = name\n",
        "        self.__price = price\n",
        "\n",
        "    @property #it will make accesS_price as attribute of the class\n",
        "    def access_price(self):\n",
        "        return self.__price\n",
        "\n",
        "    @access_price.setter\n",
        "    def price_set(self, price_new):\n",
        "        self.__price = price_new\n",
        "\n",
        "stud = Student(\"Ajay\", 3000)\n",
        "stud.access_price\n",
        "stud.price_set = 4000\n",
        "stud.access_price"
      ],
      "metadata": {
        "colab": {
          "base_uri": "https://localhost:8080/"
        },
        "id": "ljvDrLM4u0x2",
        "outputId": "118a9c95-8ed8-49d6-bcac-1510de77dede"
      },
      "execution_count": 6,
      "outputs": [
        {
          "output_type": "execute_result",
          "data": {
            "text/plain": [
              "4000"
            ]
          },
          "metadata": {},
          "execution_count": 6
        }
      ]
    },
    {
      "cell_type": "markdown",
      "source": [
        "69. What is the purpose of @property decorator in python? provide an example illustrating its usages."
      ],
      "metadata": {
        "id": "Ls2xH0XeveuS"
      }
    },
    {
      "cell_type": "markdown",
      "source": [
        "Here, the @property decorator is used to define the property name in the class Portal, that has three methods(getter, setter, and deleter) with similar names i.e, name(), but they have different number of parameters."
      ],
      "metadata": {
        "id": "nwKpVZ9LwJDH"
      }
    },
    {
      "cell_type": "code",
      "source": [
        "class Student:\n",
        "    def __init__(self, name, price):\n",
        "        self.__name = name\n",
        "        self.__price = price\n",
        "\n",
        "    @property\n",
        "    def access_price(self):\n",
        "        return self.__price\n",
        "stud = Student(\"Ajay\", 2000)\n",
        "stud.access_price"
      ],
      "metadata": {
        "colab": {
          "base_uri": "https://localhost:8080/"
        },
        "id": "0dzGg2zwwKXq",
        "outputId": "8ce4bf2d-94b2-480d-c0e5-8044ed69c734"
      },
      "execution_count": 7,
      "outputs": [
        {
          "output_type": "execute_result",
          "data": {
            "text/plain": [
              "2000"
            ]
          },
          "metadata": {},
          "execution_count": 7
        }
      ]
    },
    {
      "cell_type": "markdown",
      "source": [
        "70. Explain use of the @deleter decorator in python property decosrator.provide example demonstrating its examples"
      ],
      "metadata": {
        "id": "JvoeEwHRwjZ4"
      }
    },
    {
      "cell_type": "markdown",
      "source": [
        "Just like the setter method, python has deleter method which is used to delete the property of a class. The syntax of declaring the deleter method decorator is: @property-name. deleter. Once the property is deleted, it cannot be accessed using the same instance"
      ],
      "metadata": {
        "id": "mGq7HVmlxZrg"
      }
    },
    {
      "cell_type": "code",
      "source": [
        "class Student:\n",
        "    def __init__(self, name, price):\n",
        "        self.__name = name\n",
        "        self.__price = price\n",
        "\n",
        "    @property #it will make accesS_price as attribute of the class\n",
        "    def access_price(self):\n",
        "        return self.__price\n",
        "\n",
        "    @access_price.setter\n",
        "    def price_set(self, price_new):\n",
        "        self.__price = price_new\n",
        "\n",
        "    @access_price.deleter\n",
        "    def del_price(self):\n",
        "        del self.__price\n",
        "\n",
        "stud = Student(\"Ajay\", 3000)\n",
        "stud.access_price\n",
        "stud.del_price\n",
        "del stud.del_price\n",
        "stud.access_price"
      ],
      "metadata": {
        "colab": {
          "base_uri": "https://localhost:8080/",
          "height": 297
        },
        "id": "rjTcLzUixu72",
        "outputId": "f686e620-f995-47c6-d9be-2ffd5def1412"
      },
      "execution_count": 9,
      "outputs": [
        {
          "output_type": "error",
          "ename": "AttributeError",
          "evalue": "'Student' object has no attribute '_Student__price'",
          "traceback": [
            "\u001b[0;31m---------------------------------------------------------------------------\u001b[0m",
            "\u001b[0;31mAttributeError\u001b[0m                            Traceback (most recent call last)",
            "\u001b[0;32m<ipython-input-9-c44fc51e5c40>\u001b[0m in \u001b[0;36m<cell line: 22>\u001b[0;34m()\u001b[0m\n\u001b[1;32m     20\u001b[0m \u001b[0mstud\u001b[0m\u001b[0;34m.\u001b[0m\u001b[0mdel_price\u001b[0m\u001b[0;34m\u001b[0m\u001b[0;34m\u001b[0m\u001b[0m\n\u001b[1;32m     21\u001b[0m \u001b[0;32mdel\u001b[0m \u001b[0mstud\u001b[0m\u001b[0;34m.\u001b[0m\u001b[0mdel_price\u001b[0m\u001b[0;34m\u001b[0m\u001b[0;34m\u001b[0m\u001b[0m\n\u001b[0;32m---> 22\u001b[0;31m \u001b[0mstud\u001b[0m\u001b[0;34m.\u001b[0m\u001b[0maccess_price\u001b[0m\u001b[0;34m\u001b[0m\u001b[0;34m\u001b[0m\u001b[0m\n\u001b[0m",
            "\u001b[0;32m<ipython-input-9-c44fc51e5c40>\u001b[0m in \u001b[0;36maccess_price\u001b[0;34m(self)\u001b[0m\n\u001b[1;32m      6\u001b[0m     \u001b[0;34m@\u001b[0m\u001b[0mproperty\u001b[0m \u001b[0;31m#it will make accesS_price as attribute of the class\u001b[0m\u001b[0;34m\u001b[0m\u001b[0;34m\u001b[0m\u001b[0m\n\u001b[1;32m      7\u001b[0m     \u001b[0;32mdef\u001b[0m \u001b[0maccess_price\u001b[0m\u001b[0;34m(\u001b[0m\u001b[0mself\u001b[0m\u001b[0;34m)\u001b[0m\u001b[0;34m:\u001b[0m\u001b[0;34m\u001b[0m\u001b[0;34m\u001b[0m\u001b[0m\n\u001b[0;32m----> 8\u001b[0;31m         \u001b[0;32mreturn\u001b[0m \u001b[0mself\u001b[0m\u001b[0;34m.\u001b[0m\u001b[0m__price\u001b[0m\u001b[0;34m\u001b[0m\u001b[0;34m\u001b[0m\u001b[0m\n\u001b[0m\u001b[1;32m      9\u001b[0m \u001b[0;34m\u001b[0m\u001b[0m\n\u001b[1;32m     10\u001b[0m     \u001b[0;34m@\u001b[0m\u001b[0maccess_price\u001b[0m\u001b[0;34m.\u001b[0m\u001b[0msetter\u001b[0m\u001b[0;34m\u001b[0m\u001b[0;34m\u001b[0m\u001b[0m\n",
            "\u001b[0;31mAttributeError\u001b[0m: 'Student' object has no attribute '_Student__price'"
          ]
        }
      ]
    },
    {
      "cell_type": "markdown",
      "source": [
        "71.How does encapsulation relate to property decorators in python?provide an example showcasing encapsulation using property decorator."
      ],
      "metadata": {
        "id": "RzjWwpaDyhgZ"
      }
    },
    {
      "cell_type": "markdown",
      "source": [
        "The basis of Python's approach to object-oriented programming is the principle of encapsulation—the idea that data within an object should be accessible only through well-defined interfaces. This is where the decorator comes into play, offering a mechanism to control access to class attributes."
      ],
      "metadata": {
        "id": "0vb-KtxgzdRS"
      }
    },
    {
      "cell_type": "code",
      "source": [
        "class Student:\n",
        "    def __init__(self, name, price):\n",
        "        self.__name = name\n",
        "        self.__price = price\n",
        "\n",
        "    @property\n",
        "    def access_price(self):\n",
        "        return self.__price\n",
        "stud = Student(\"Ajay\", 2000)\n",
        "stud.access_price"
      ],
      "metadata": {
        "colab": {
          "base_uri": "https://localhost:8080/"
        },
        "id": "lntrAQT7zfDb",
        "outputId": "976da400-7ce2-456e-c43a-a740dfeafc86"
      },
      "execution_count": 10,
      "outputs": [
        {
          "output_type": "execute_result",
          "data": {
            "text/plain": [
              "2000"
            ]
          },
          "metadata": {},
          "execution_count": 10
        }
      ]
    }
  ]
}